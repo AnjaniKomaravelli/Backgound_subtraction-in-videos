{
 "cells": [
  {
   "cell_type": "code",
   "execution_count": 1,
   "id": "1b35b595-6b42-4af4-9988-8f552468e70a",
   "metadata": {},
   "outputs": [
    {
     "name": "stdout",
     "output_type": "stream",
     "text": [
      "Foreground video saved at: C:\\Users\\basud\\foreground_output.mp4\n",
      "Background video saved at: C:\\Users\\basud\\background_output.mp4\n"
     ]
    }
   ],
   "source": [
    "import cv2\n",
    "import numpy as np\n",
    "\n",
    "video_path = r\"C:\\Users\\basud\\Water.mp4\"\n",
    "cap = cv2.VideoCapture(video_path)\n",
    "\n",
    "if not cap.isOpened():\n",
    "    print(\"Error: Cannot open video.\")\n",
    "    exit()\n",
    "\n",
    "frame_width = int(cap.get(cv2.CAP_PROP_FRAME_WIDTH))\n",
    "frame_height = int(cap.get(cv2.CAP_PROP_FRAME_HEIGHT))\n",
    "fps = int(cap.get(cv2.CAP_PROP_FPS))\n",
    "fourcc = cv2.VideoWriter_fourcc(*'mp4v')\n",
    "foreground_output_path = r\"C:\\Users\\basud\\foreground_output.mp4\"\n",
    "background_output_path = r\"C:\\Users\\basud\\background_output.mp4\"\n",
    "\n",
    "foreground_writer = cv2.VideoWriter(foreground_output_path, fourcc, fps, (frame_width, frame_height))\n",
    "background_writer = cv2.VideoWriter(background_output_path, fourcc, fps, (frame_width, frame_height))\n",
    "\n",
    "subtractor = cv2.createBackgroundSubtractorKNN(history=500, dist2Threshold=400, detectShadows=True)\n",
    "\n",
    "background_model = None\n",
    "alpha = 0.01\n",
    "\n",
    "while True:\n",
    "    ret, frame = cap.read()\n",
    "    if not ret:\n",
    "        break\n",
    "\n",
    "    fg_mask = subtractor.apply(frame)\n",
    "    _, fg_mask = cv2.threshold(fg_mask, 200, 255, cv2.THRESH_BINARY)\n",
    "\n",
    "    kernel = cv2.getStructuringElement(cv2.MORPH_RECT, (5, 5))\n",
    "    fg_mask = cv2.morphologyEx(fg_mask, cv2.MORPH_OPEN, kernel)\n",
    "    fg_mask = cv2.morphologyEx(fg_mask, cv2.MORPH_CLOSE, kernel)\n",
    "    fg_mask = cv2.erode(fg_mask, kernel, iterations=1)\n",
    "    fg_mask = cv2.dilate(fg_mask, kernel, iterations=2)\n",
    "    foreground = cv2.bitwise_and(frame, frame, mask=fg_mask)\n",
    "\n",
    "    foreground = cv2.convertScaleAbs(foreground, alpha=1.2, beta=20)\n",
    "    sharpening_kernel = np.array([[0, -1, 0],\n",
    "                                   [-1, 5, -1],\n",
    "                                   [0, -1, 0]])\n",
    "    foreground = cv2.filter2D(foreground, -1, sharpening_kernel)\n",
    "\n",
    "    if background_model is None:\n",
    "        background_model = frame.astype(np.float32)\n",
    "    else:\n",
    "        cv2.accumulateWeighted(frame, background_model, alpha)\n",
    "\n",
    "    background = cv2.convertScaleAbs(background_model)\n",
    "    foreground_writer.write(foreground)\n",
    "    background_writer.write(background)\n",
    "\n",
    "    cv2.imshow(\"Original Frame\", frame)\n",
    "    cv2.imshow(\"Foreground\", foreground)\n",
    "    cv2.imshow(\"Background\", background)\n",
    "    if cv2.waitKey(30) & 0xFF == 27:\n",
    "        break\n",
    "\n",
    "cap.release()\n",
    "foreground_writer.release()\n",
    "background_writer.release()\n",
    "cv2.destroyAllWindows()\n",
    "print(f\"Foreground video saved at: {foreground_output_path}\")\n",
    "print(f\"Background video saved at: {background_output_path}\")"
   ]
  }
 ],
 "metadata": {
  "kernelspec": {
   "display_name": "Python 3 (ipykernel)",
   "language": "python",
   "name": "python3"
  },
  "language_info": {
   "codemirror_mode": {
    "name": "ipython",
    "version": 3
   },
   "file_extension": ".py",
   "mimetype": "text/x-python",
   "name": "python",
   "nbconvert_exporter": "python",
   "pygments_lexer": "ipython3",
   "version": "3.11.7"
  }
 },
 "nbformat": 4,
 "nbformat_minor": 5
}
